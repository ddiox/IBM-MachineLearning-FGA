{
  "nbformat": 4,
  "nbformat_minor": 0,
  "metadata": {
    "colab": {
      "name": "BBC Text Classification",
      "provenance": []
    },
    "kernelspec": {
      "display_name": "Python 3",
      "name": "python3"
    },
    "language_info": {
      "name": "python"
    }
  },
  "cells": [
    {
      "cell_type": "markdown",
      "metadata": {
        "id": "iLGCpzHWiGZm"
      },
      "source": [
        "Submission 1 Membuat Model NLP dengan TensorFlow\n",
        "\n",
        "BBC Text Classification"
      ]
    },
    {
      "cell_type": "markdown",
      "metadata": {
        "id": "qvHzc2bwimQs"
      },
      "source": [
        "# Download dataset"
      ]
    },
    {
      "cell_type": "code",
      "metadata": {
        "colab": {
          "base_uri": "https://localhost:8080/"
        },
        "id": "R78wVeysikQa",
        "outputId": "6606d75d-e078-45fa-b9ce-6ae237c1035d"
      },
      "source": [
        "!wget --no-check-certificate \\\n",
        "  https://storage.googleapis.com/dataset-uploader/bbc/bbc-text.csv \\\n",
        "  -O /tmp/bbc-text.csv"
      ],
      "execution_count": null,
      "outputs": [
        {
          "output_type": "stream",
          "text": [
            "--2021-07-10 03:51:26--  https://storage.googleapis.com/dataset-uploader/bbc/bbc-text.csv\n",
            "Resolving storage.googleapis.com (storage.googleapis.com)... 142.250.153.128, 74.125.128.128, 74.125.143.128, ...\n",
            "Connecting to storage.googleapis.com (storage.googleapis.com)|142.250.153.128|:443... connected.\n",
            "HTTP request sent, awaiting response... 200 OK\n",
            "Length: 5057493 (4.8M) [text/csv]\n",
            "Saving to: ‘/tmp/bbc-text.csv’\n",
            "\n",
            "\r/tmp/bbc-text.csv     0%[                    ]       0  --.-KB/s               \r/tmp/bbc-text.csv   100%[===================>]   4.82M  --.-KB/s    in 0.03s   \n",
            "\n",
            "2021-07-10 03:51:26 (152 MB/s) - ‘/tmp/bbc-text.csv’ saved [5057493/5057493]\n",
            "\n"
          ],
          "name": "stdout"
        }
      ]
    },
    {
      "cell_type": "markdown",
      "metadata": {
        "id": "I3xyVahNixH0"
      },
      "source": [
        "# Read dataset"
      ]
    },
    {
      "cell_type": "code",
      "metadata": {
        "id": "pamSyQFXi0tb"
      },
      "source": [
        "import pandas as pd"
      ],
      "execution_count": null,
      "outputs": []
    },
    {
      "cell_type": "code",
      "metadata": {
        "id": "yR1T4Lwzi8bs"
      },
      "source": [
        "df = pd.read_csv('/tmp/bbc-text.csv')"
      ],
      "execution_count": null,
      "outputs": []
    },
    {
      "cell_type": "code",
      "metadata": {
        "colab": {
          "base_uri": "https://localhost:8080/",
          "height": 206
        },
        "id": "RM5XFpiCi8lb",
        "outputId": "bf27b15f-6255-44d2-95c6-7ef07726501d"
      },
      "source": [
        "df.head()"
      ],
      "execution_count": null,
      "outputs": [
        {
          "output_type": "execute_result",
          "data": {
            "text/html": [
              "<div>\n",
              "<style scoped>\n",
              "    .dataframe tbody tr th:only-of-type {\n",
              "        vertical-align: middle;\n",
              "    }\n",
              "\n",
              "    .dataframe tbody tr th {\n",
              "        vertical-align: top;\n",
              "    }\n",
              "\n",
              "    .dataframe thead th {\n",
              "        text-align: right;\n",
              "    }\n",
              "</style>\n",
              "<table border=\"1\" class=\"dataframe\">\n",
              "  <thead>\n",
              "    <tr style=\"text-align: right;\">\n",
              "      <th></th>\n",
              "      <th>category</th>\n",
              "      <th>text</th>\n",
              "    </tr>\n",
              "  </thead>\n",
              "  <tbody>\n",
              "    <tr>\n",
              "      <th>0</th>\n",
              "      <td>tech</td>\n",
              "      <td>tv future in the hands of viewers with home th...</td>\n",
              "    </tr>\n",
              "    <tr>\n",
              "      <th>1</th>\n",
              "      <td>business</td>\n",
              "      <td>worldcom boss  left books alone  former worldc...</td>\n",
              "    </tr>\n",
              "    <tr>\n",
              "      <th>2</th>\n",
              "      <td>sport</td>\n",
              "      <td>tigers wary of farrell  gamble  leicester say ...</td>\n",
              "    </tr>\n",
              "    <tr>\n",
              "      <th>3</th>\n",
              "      <td>sport</td>\n",
              "      <td>yeading face newcastle in fa cup premiership s...</td>\n",
              "    </tr>\n",
              "    <tr>\n",
              "      <th>4</th>\n",
              "      <td>entertainment</td>\n",
              "      <td>ocean s twelve raids box office ocean s twelve...</td>\n",
              "    </tr>\n",
              "  </tbody>\n",
              "</table>\n",
              "</div>"
            ],
            "text/plain": [
              "        category                                               text\n",
              "0           tech  tv future in the hands of viewers with home th...\n",
              "1       business  worldcom boss  left books alone  former worldc...\n",
              "2          sport  tigers wary of farrell  gamble  leicester say ...\n",
              "3          sport  yeading face newcastle in fa cup premiership s...\n",
              "4  entertainment  ocean s twelve raids box office ocean s twelve..."
            ]
          },
          "metadata": {
            "tags": []
          },
          "execution_count": 6
        }
      ]
    },
    {
      "cell_type": "code",
      "metadata": {
        "colab": {
          "base_uri": "https://localhost:8080/"
        },
        "id": "zIp_2Zy0jSsE",
        "outputId": "8034994a-287e-4215-d250-4a243dcc802d"
      },
      "source": [
        "df['category'].value_counts()"
      ],
      "execution_count": null,
      "outputs": [
        {
          "output_type": "execute_result",
          "data": {
            "text/plain": [
              "sport            511\n",
              "business         510\n",
              "politics         417\n",
              "tech             401\n",
              "entertainment    386\n",
              "Name: category, dtype: int64"
            ]
          },
          "metadata": {
            "tags": []
          },
          "execution_count": 8
        }
      ]
    },
    {
      "cell_type": "markdown",
      "metadata": {
        "id": "lKGPMi0pjFSj"
      },
      "source": [
        "# One-hot encoding"
      ]
    },
    {
      "cell_type": "code",
      "metadata": {
        "colab": {
          "base_uri": "https://localhost:8080/",
          "height": 423
        },
        "id": "vPwbkkD4jKaR",
        "outputId": "898ec04c-5081-4fdd-db1d-339019c0f27b"
      },
      "source": [
        "category = pd.get_dummies(df.category)\n",
        "df_new = pd.concat([df, category], axis=1)\n",
        "df_new = df_new.drop(columns='category')\n",
        "df_new"
      ],
      "execution_count": null,
      "outputs": [
        {
          "output_type": "execute_result",
          "data": {
            "text/html": [
              "<div>\n",
              "<style scoped>\n",
              "    .dataframe tbody tr th:only-of-type {\n",
              "        vertical-align: middle;\n",
              "    }\n",
              "\n",
              "    .dataframe tbody tr th {\n",
              "        vertical-align: top;\n",
              "    }\n",
              "\n",
              "    .dataframe thead th {\n",
              "        text-align: right;\n",
              "    }\n",
              "</style>\n",
              "<table border=\"1\" class=\"dataframe\">\n",
              "  <thead>\n",
              "    <tr style=\"text-align: right;\">\n",
              "      <th></th>\n",
              "      <th>text</th>\n",
              "      <th>business</th>\n",
              "      <th>entertainment</th>\n",
              "      <th>politics</th>\n",
              "      <th>sport</th>\n",
              "      <th>tech</th>\n",
              "    </tr>\n",
              "  </thead>\n",
              "  <tbody>\n",
              "    <tr>\n",
              "      <th>0</th>\n",
              "      <td>tv future in the hands of viewers with home th...</td>\n",
              "      <td>0</td>\n",
              "      <td>0</td>\n",
              "      <td>0</td>\n",
              "      <td>0</td>\n",
              "      <td>1</td>\n",
              "    </tr>\n",
              "    <tr>\n",
              "      <th>1</th>\n",
              "      <td>worldcom boss  left books alone  former worldc...</td>\n",
              "      <td>1</td>\n",
              "      <td>0</td>\n",
              "      <td>0</td>\n",
              "      <td>0</td>\n",
              "      <td>0</td>\n",
              "    </tr>\n",
              "    <tr>\n",
              "      <th>2</th>\n",
              "      <td>tigers wary of farrell  gamble  leicester say ...</td>\n",
              "      <td>0</td>\n",
              "      <td>0</td>\n",
              "      <td>0</td>\n",
              "      <td>1</td>\n",
              "      <td>0</td>\n",
              "    </tr>\n",
              "    <tr>\n",
              "      <th>3</th>\n",
              "      <td>yeading face newcastle in fa cup premiership s...</td>\n",
              "      <td>0</td>\n",
              "      <td>0</td>\n",
              "      <td>0</td>\n",
              "      <td>1</td>\n",
              "      <td>0</td>\n",
              "    </tr>\n",
              "    <tr>\n",
              "      <th>4</th>\n",
              "      <td>ocean s twelve raids box office ocean s twelve...</td>\n",
              "      <td>0</td>\n",
              "      <td>1</td>\n",
              "      <td>0</td>\n",
              "      <td>0</td>\n",
              "      <td>0</td>\n",
              "    </tr>\n",
              "    <tr>\n",
              "      <th>...</th>\n",
              "      <td>...</td>\n",
              "      <td>...</td>\n",
              "      <td>...</td>\n",
              "      <td>...</td>\n",
              "      <td>...</td>\n",
              "      <td>...</td>\n",
              "    </tr>\n",
              "    <tr>\n",
              "      <th>2220</th>\n",
              "      <td>cars pull down us retail figures us retail sal...</td>\n",
              "      <td>1</td>\n",
              "      <td>0</td>\n",
              "      <td>0</td>\n",
              "      <td>0</td>\n",
              "      <td>0</td>\n",
              "    </tr>\n",
              "    <tr>\n",
              "      <th>2221</th>\n",
              "      <td>kilroy unveils immigration policy ex-chatshow ...</td>\n",
              "      <td>0</td>\n",
              "      <td>0</td>\n",
              "      <td>1</td>\n",
              "      <td>0</td>\n",
              "      <td>0</td>\n",
              "    </tr>\n",
              "    <tr>\n",
              "      <th>2222</th>\n",
              "      <td>rem announce new glasgow concert us band rem h...</td>\n",
              "      <td>0</td>\n",
              "      <td>1</td>\n",
              "      <td>0</td>\n",
              "      <td>0</td>\n",
              "      <td>0</td>\n",
              "    </tr>\n",
              "    <tr>\n",
              "      <th>2223</th>\n",
              "      <td>how political squabbles snowball it s become c...</td>\n",
              "      <td>0</td>\n",
              "      <td>0</td>\n",
              "      <td>1</td>\n",
              "      <td>0</td>\n",
              "      <td>0</td>\n",
              "    </tr>\n",
              "    <tr>\n",
              "      <th>2224</th>\n",
              "      <td>souness delight at euro progress boss graeme s...</td>\n",
              "      <td>0</td>\n",
              "      <td>0</td>\n",
              "      <td>0</td>\n",
              "      <td>1</td>\n",
              "      <td>0</td>\n",
              "    </tr>\n",
              "  </tbody>\n",
              "</table>\n",
              "<p>2225 rows × 6 columns</p>\n",
              "</div>"
            ],
            "text/plain": [
              "                                                   text  business  ...  sport  tech\n",
              "0     tv future in the hands of viewers with home th...         0  ...      0     1\n",
              "1     worldcom boss  left books alone  former worldc...         1  ...      0     0\n",
              "2     tigers wary of farrell  gamble  leicester say ...         0  ...      1     0\n",
              "3     yeading face newcastle in fa cup premiership s...         0  ...      1     0\n",
              "4     ocean s twelve raids box office ocean s twelve...         0  ...      0     0\n",
              "...                                                 ...       ...  ...    ...   ...\n",
              "2220  cars pull down us retail figures us retail sal...         1  ...      0     0\n",
              "2221  kilroy unveils immigration policy ex-chatshow ...         0  ...      0     0\n",
              "2222  rem announce new glasgow concert us band rem h...         0  ...      0     0\n",
              "2223  how political squabbles snowball it s become c...         0  ...      0     0\n",
              "2224  souness delight at euro progress boss graeme s...         0  ...      1     0\n",
              "\n",
              "[2225 rows x 6 columns]"
            ]
          },
          "metadata": {
            "tags": []
          },
          "execution_count": 11
        }
      ]
    },
    {
      "cell_type": "markdown",
      "metadata": {
        "id": "cT6G4kfvjue9"
      },
      "source": [
        "# Data Preparation"
      ]
    },
    {
      "cell_type": "code",
      "metadata": {
        "id": "ICb7wD6Tjx3o"
      },
      "source": [
        "# Converting to numpy array\n",
        "text = df_new['text'].values\n",
        "label = df_new[['business', 'entertainment', 'politics', 'sport', 'tech']].values"
      ],
      "execution_count": null,
      "outputs": []
    },
    {
      "cell_type": "code",
      "metadata": {
        "id": "2P-u8H7HkFFJ"
      },
      "source": [
        "# Split the dataset, where validation set is equal to 0.2\n",
        "from sklearn.model_selection import train_test_split\n",
        "text_train, text_test, label_train, label_test = train_test_split(text, label, test_size=0.2)"
      ],
      "execution_count": null,
      "outputs": []
    },
    {
      "cell_type": "code",
      "metadata": {
        "id": "_6kg0S66knjF"
      },
      "source": [
        "# Tokenization\n",
        "from tensorflow.keras.preprocessing.text import Tokenizer\n",
        "tokenizer = Tokenizer(num_words=5000, oov_token='-')\n",
        "tokenizer.fit_on_texts(text_train) \n",
        "tokenizer.fit_on_texts(text_test)"
      ],
      "execution_count": null,
      "outputs": []
    },
    {
      "cell_type": "code",
      "metadata": {
        "id": "Dziy0478lO5I"
      },
      "source": [
        "# Sequence and Padding\n",
        "from tensorflow.keras.preprocessing.sequence import pad_sequences\n",
        " \n",
        "sequence_train= tokenizer.texts_to_sequences(text_train)\n",
        "sequence_test = tokenizer.texts_to_sequences(text_test)\n",
        " \n",
        "padded_train = pad_sequences(sequence_train)\n",
        "padded_test = pad_sequences(sequence_test)"
      ],
      "execution_count": null,
      "outputs": []
    },
    {
      "cell_type": "markdown",
      "metadata": {
        "id": "hYt59kNxmA27"
      },
      "source": [
        "# Building Model"
      ]
    },
    {
      "cell_type": "code",
      "metadata": {
        "id": "fivUHL62mC3k"
      },
      "source": [
        "import tensorflow as tf\n",
        "model = tf.keras.Sequential([\n",
        "    tf.keras.layers.Embedding(input_dim=5000, output_dim=16),\n",
        "    tf.keras.layers.LSTM(64),\n",
        "    tf.keras.layers.Dense(128, activation='relu'),\n",
        "    tf.keras.layers.Dense(64, activation='relu'),\n",
        "    tf.keras.layers.Dense(5, activation='softmax')\n",
        "])"
      ],
      "execution_count": null,
      "outputs": []
    },
    {
      "cell_type": "code",
      "metadata": {
        "id": "1T4SVWB-mW-h"
      },
      "source": [
        "model.compile(loss='categorical_crossentropy',optimizer='adam',metrics=['accuracy'])"
      ],
      "execution_count": null,
      "outputs": []
    },
    {
      "cell_type": "code",
      "metadata": {
        "id": "4UjQUlRhmaz0"
      },
      "source": [
        "class myCallback(tf.keras.callbacks.Callback):\n",
        "  def on_epoch_end(self, epoch, logs={}):\n",
        "    if(logs.get('val_accuracy')>0.9):\n",
        "      print(\"\\nAccuracy >90%!\")\n",
        "      self.model.stop_training = True\n",
        "callbacks = myCallback()"
      ],
      "execution_count": null,
      "outputs": []
    },
    {
      "cell_type": "code",
      "metadata": {
        "colab": {
          "base_uri": "https://localhost:8080/"
        },
        "id": "4KTQNph8miWt",
        "outputId": "94277eb1-cf2a-4bfa-b40d-5869bf4eda1c"
      },
      "source": [
        "history = model.fit(padded_train, label_train, epochs=50, callbacks=[callbacks],\n",
        "                    validation_data=(padded_test, label_test), verbose=2)"
      ],
      "execution_count": 22,
      "outputs": [
        {
          "output_type": "stream",
          "text": [
            "Epoch 1/50\n",
            "56/56 - 162s - loss: 1.6002 - accuracy: 0.2449 - val_loss: 1.5887 - val_accuracy: 0.2944\n",
            "Epoch 2/50\n",
            "56/56 - 160s - loss: 1.4061 - accuracy: 0.3978 - val_loss: 1.3405 - val_accuracy: 0.4157\n",
            "Epoch 3/50\n",
            "56/56 - 161s - loss: 1.0290 - accuracy: 0.5202 - val_loss: 0.9701 - val_accuracy: 0.6112\n",
            "Epoch 4/50\n",
            "56/56 - 160s - loss: 0.6596 - accuracy: 0.7247 - val_loss: 1.5267 - val_accuracy: 0.6202\n",
            "Epoch 5/50\n",
            "56/56 - 161s - loss: 0.5921 - accuracy: 0.7848 - val_loss: 0.8306 - val_accuracy: 0.7169\n",
            "Epoch 6/50\n",
            "56/56 - 162s - loss: 0.2090 - accuracy: 0.9315 - val_loss: 0.8569 - val_accuracy: 0.7551\n",
            "Epoch 7/50\n",
            "56/56 - 161s - loss: 0.1092 - accuracy: 0.9691 - val_loss: 0.9444 - val_accuracy: 0.7753\n",
            "Epoch 8/50\n",
            "56/56 - 162s - loss: 0.0423 - accuracy: 0.9860 - val_loss: 1.1677 - val_accuracy: 0.7528\n",
            "Epoch 9/50\n",
            "56/56 - 177s - loss: 0.0129 - accuracy: 0.9983 - val_loss: 1.0605 - val_accuracy: 0.7910\n",
            "Epoch 10/50\n",
            "56/56 - 164s - loss: 0.0049 - accuracy: 0.9989 - val_loss: 1.0733 - val_accuracy: 0.7843\n",
            "Epoch 11/50\n",
            "56/56 - 159s - loss: 0.0025 - accuracy: 1.0000 - val_loss: 1.1748 - val_accuracy: 0.7798\n",
            "Epoch 12/50\n",
            "56/56 - 156s - loss: 9.6517e-04 - accuracy: 1.0000 - val_loss: 1.2126 - val_accuracy: 0.7865\n",
            "Epoch 13/50\n",
            "56/56 - 163s - loss: 6.4461e-04 - accuracy: 1.0000 - val_loss: 1.2319 - val_accuracy: 0.7955\n",
            "Epoch 14/50\n",
            "56/56 - 160s - loss: 4.9325e-04 - accuracy: 1.0000 - val_loss: 1.2479 - val_accuracy: 0.7955\n",
            "Epoch 15/50\n",
            "56/56 - 169s - loss: 3.9701e-04 - accuracy: 1.0000 - val_loss: 1.2699 - val_accuracy: 0.7978\n",
            "Epoch 16/50\n",
            "56/56 - 162s - loss: 3.2487e-04 - accuracy: 1.0000 - val_loss: 1.2814 - val_accuracy: 0.7978\n",
            "Epoch 17/50\n",
            "56/56 - 161s - loss: 2.7433e-04 - accuracy: 1.0000 - val_loss: 1.2979 - val_accuracy: 0.7978\n",
            "Epoch 18/50\n",
            "56/56 - 165s - loss: 2.3286e-04 - accuracy: 1.0000 - val_loss: 1.3113 - val_accuracy: 0.8000\n",
            "Epoch 19/50\n",
            "56/56 - 158s - loss: 2.0354e-04 - accuracy: 1.0000 - val_loss: 1.3266 - val_accuracy: 0.8000\n",
            "Epoch 20/50\n",
            "56/56 - 167s - loss: 1.7593e-04 - accuracy: 1.0000 - val_loss: 1.3375 - val_accuracy: 0.8000\n",
            "Epoch 21/50\n",
            "56/56 - 158s - loss: 1.5565e-04 - accuracy: 1.0000 - val_loss: 1.3487 - val_accuracy: 0.8000\n",
            "Epoch 22/50\n",
            "56/56 - 156s - loss: 1.3834e-04 - accuracy: 1.0000 - val_loss: 1.3579 - val_accuracy: 0.8000\n",
            "Epoch 23/50\n",
            "56/56 - 154s - loss: 1.2391e-04 - accuracy: 1.0000 - val_loss: 1.3655 - val_accuracy: 0.8067\n",
            "Epoch 24/50\n",
            "56/56 - 155s - loss: 1.1128e-04 - accuracy: 1.0000 - val_loss: 1.3758 - val_accuracy: 0.8067\n",
            "Epoch 25/50\n",
            "56/56 - 155s - loss: 1.0074e-04 - accuracy: 1.0000 - val_loss: 1.3854 - val_accuracy: 0.8067\n",
            "Epoch 26/50\n",
            "56/56 - 156s - loss: 9.1217e-05 - accuracy: 1.0000 - val_loss: 1.3943 - val_accuracy: 0.8090\n",
            "Epoch 27/50\n",
            "56/56 - 156s - loss: 8.3062e-05 - accuracy: 1.0000 - val_loss: 1.4029 - val_accuracy: 0.8090\n",
            "Epoch 28/50\n",
            "56/56 - 157s - loss: 7.6111e-05 - accuracy: 1.0000 - val_loss: 1.4093 - val_accuracy: 0.8090\n",
            "Epoch 29/50\n",
            "56/56 - 160s - loss: 6.9664e-05 - accuracy: 1.0000 - val_loss: 1.4166 - val_accuracy: 0.8090\n",
            "Epoch 30/50\n",
            "56/56 - 159s - loss: 6.4352e-05 - accuracy: 1.0000 - val_loss: 1.4250 - val_accuracy: 0.8090\n",
            "Epoch 31/50\n",
            "56/56 - 159s - loss: 5.9132e-05 - accuracy: 1.0000 - val_loss: 1.4321 - val_accuracy: 0.8112\n",
            "Epoch 32/50\n",
            "56/56 - 160s - loss: 5.4579e-05 - accuracy: 1.0000 - val_loss: 1.4386 - val_accuracy: 0.8112\n",
            "Epoch 33/50\n",
            "56/56 - 160s - loss: 5.0509e-05 - accuracy: 1.0000 - val_loss: 1.4450 - val_accuracy: 0.8112\n",
            "Epoch 34/50\n",
            "56/56 - 160s - loss: 4.6862e-05 - accuracy: 1.0000 - val_loss: 1.4519 - val_accuracy: 0.8112\n",
            "Epoch 35/50\n",
            "56/56 - 160s - loss: 4.3779e-05 - accuracy: 1.0000 - val_loss: 1.4575 - val_accuracy: 0.8135\n",
            "Epoch 36/50\n",
            "56/56 - 160s - loss: 4.0728e-05 - accuracy: 1.0000 - val_loss: 1.4641 - val_accuracy: 0.8112\n",
            "Epoch 37/50\n",
            "56/56 - 159s - loss: 3.7902e-05 - accuracy: 1.0000 - val_loss: 1.4683 - val_accuracy: 0.8112\n",
            "Epoch 38/50\n",
            "56/56 - 159s - loss: 3.5495e-05 - accuracy: 1.0000 - val_loss: 1.4749 - val_accuracy: 0.8112\n",
            "Epoch 39/50\n",
            "56/56 - 159s - loss: 3.3275e-05 - accuracy: 1.0000 - val_loss: 1.4788 - val_accuracy: 0.8112\n",
            "Epoch 40/50\n",
            "56/56 - 159s - loss: 3.1220e-05 - accuracy: 1.0000 - val_loss: 1.4859 - val_accuracy: 0.8112\n",
            "Epoch 41/50\n",
            "56/56 - 159s - loss: 2.9370e-05 - accuracy: 1.0000 - val_loss: 1.4930 - val_accuracy: 0.8112\n",
            "Epoch 42/50\n",
            "56/56 - 160s - loss: 2.7655e-05 - accuracy: 1.0000 - val_loss: 1.4956 - val_accuracy: 0.8090\n",
            "Epoch 43/50\n",
            "56/56 - 162s - loss: 2.5924e-05 - accuracy: 1.0000 - val_loss: 1.5005 - val_accuracy: 0.8135\n",
            "Epoch 44/50\n",
            "56/56 - 162s - loss: 2.4400e-05 - accuracy: 1.0000 - val_loss: 1.5059 - val_accuracy: 0.8112\n",
            "Epoch 45/50\n",
            "56/56 - 161s - loss: 2.3122e-05 - accuracy: 1.0000 - val_loss: 1.5137 - val_accuracy: 0.8090\n",
            "Epoch 46/50\n",
            "56/56 - 161s - loss: 2.1722e-05 - accuracy: 1.0000 - val_loss: 1.5158 - val_accuracy: 0.8090\n",
            "Epoch 47/50\n",
            "56/56 - 161s - loss: 2.0560e-05 - accuracy: 1.0000 - val_loss: 1.5203 - val_accuracy: 0.8090\n",
            "Epoch 48/50\n",
            "56/56 - 158s - loss: 1.9467e-05 - accuracy: 1.0000 - val_loss: 1.5264 - val_accuracy: 0.8112\n",
            "Epoch 49/50\n",
            "56/56 - 159s - loss: 1.8415e-05 - accuracy: 1.0000 - val_loss: 1.5305 - val_accuracy: 0.8112\n",
            "Epoch 50/50\n",
            "56/56 - 159s - loss: 1.7513e-05 - accuracy: 1.0000 - val_loss: 1.5361 - val_accuracy: 0.8112\n"
          ],
          "name": "stdout"
        }
      ]
    }
  ]
}