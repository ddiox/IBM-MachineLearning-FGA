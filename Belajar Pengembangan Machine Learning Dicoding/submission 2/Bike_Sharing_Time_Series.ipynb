{
  "nbformat": 4,
  "nbformat_minor": 0,
  "metadata": {
    "colab": {
      "name": "Bike Sharing Time Series.ipynb",
      "provenance": []
    },
    "kernelspec": {
      "name": "python3",
      "display_name": "Python 3"
    },
    "language_info": {
      "name": "python"
    }
  },
  "cells": [
    {
      "cell_type": "markdown",
      "metadata": {
        "id": "2eX6QPBI0cPu"
      },
      "source": [
        "Submission 2 Membuat Model Machine Learning dengan Data Time Series\n",
        "\n",
        "Bike Sharing Time Series"
      ]
    },
    {
      "cell_type": "markdown",
      "metadata": {
        "id": "UiuAxGs60yZ3"
      },
      "source": [
        "Read Data"
      ]
    },
    {
      "cell_type": "code",
      "metadata": {
        "id": "j6xzUG-N0clt"
      },
      "source": [
        "import pandas as pd"
      ],
      "execution_count": null,
      "outputs": []
    },
    {
      "cell_type": "code",
      "metadata": {
        "colab": {
          "base_uri": "https://localhost:8080/"
        },
        "id": "BJ9-oHEj01dN",
        "outputId": "3093b958-678b-43b9-d28b-3fc89d18163d"
      },
      "source": [
        "!wget --no-check-certificate \\\n",
        "  https://archive.ics.uci.edu/ml/machine-learning-databases/00275/Bike-Sharing-Dataset.zip \\\n",
        "  -O /tmp/Bike-Sharing-Dataset.zip"
      ],
      "execution_count": null,
      "outputs": [
        {
          "output_type": "stream",
          "text": [
            "--2021-07-11 05:01:32--  https://archive.ics.uci.edu/ml/machine-learning-databases/00275/Bike-Sharing-Dataset.zip\n",
            "Resolving archive.ics.uci.edu (archive.ics.uci.edu)... 128.195.10.252\n",
            "Connecting to archive.ics.uci.edu (archive.ics.uci.edu)|128.195.10.252|:443... connected.\n",
            "HTTP request sent, awaiting response... 200 OK\n",
            "Length: 279992 (273K) [application/x-httpd-php]\n",
            "Saving to: ‘/tmp/Bike-Sharing-Dataset.zip’\n",
            "\n",
            "/tmp/Bike-Sharing-D 100%[===================>] 273.43K  --.-KB/s    in 0.1s    \n",
            "\n",
            "2021-07-11 05:01:32 (2.44 MB/s) - ‘/tmp/Bike-Sharing-Dataset.zip’ saved [279992/279992]\n",
            "\n"
          ],
          "name": "stdout"
        }
      ]
    },
    {
      "cell_type": "code",
      "metadata": {
        "colab": {
          "base_uri": "https://localhost:8080/"
        },
        "id": "pwWkshTT019s",
        "outputId": "2eae8f80-1272-465a-bba1-aa6cba0b950c"
      },
      "source": [
        "import zipfile,os\n",
        "\n",
        "local_zip = '/tmp/Bike-Sharing-Dataset.zip'\n",
        "zip_ref = zipfile.ZipFile(local_zip, 'r')\n",
        "zip_ref.extractall('/tmp')\n",
        "zip_ref.close()\n",
        "\n",
        "os.listdir('/tmp')"
      ],
      "execution_count": null,
      "outputs": [
        {
          "output_type": "execute_result",
          "data": {
            "text/plain": [
              "['Bike-Sharing-Dataset.zip',\n",
              " '__pycache__',\n",
              " 'tmpnfp8xjzh.py',\n",
              " 'debugger_1h2tmixcyb',\n",
              " 'tmpghw2bwjj.py',\n",
              " 'initgoogle_syslog_dir.0',\n",
              " 'hour.csv',\n",
              " 'tmp6nb_98_n.py',\n",
              " 'tmp2l7ztfe_.py',\n",
              " 'day.csv',\n",
              " 'Readme.txt',\n",
              " 'dap_multiplexer.31bd56d6ea23.root.log.INFO.20210711-042457.52',\n",
              " 'dap_multiplexer.INFO']"
            ]
          },
          "metadata": {
            "tags": []
          },
          "execution_count": 39
        }
      ]
    },
    {
      "cell_type": "code",
      "metadata": {
        "colab": {
          "base_uri": "https://localhost:8080/",
          "height": 237
        },
        "id": "uhwB3fUW1ABC",
        "outputId": "26aa38b3-c338-414b-a559-459377aee05d"
      },
      "source": [
        "df_hour = pd.read_csv('/tmp/hour.csv', index_col='dteday')\n",
        "df_hour.head()"
      ],
      "execution_count": null,
      "outputs": [
        {
          "output_type": "execute_result",
          "data": {
            "text/html": [
              "<div>\n",
              "<style scoped>\n",
              "    .dataframe tbody tr th:only-of-type {\n",
              "        vertical-align: middle;\n",
              "    }\n",
              "\n",
              "    .dataframe tbody tr th {\n",
              "        vertical-align: top;\n",
              "    }\n",
              "\n",
              "    .dataframe thead th {\n",
              "        text-align: right;\n",
              "    }\n",
              "</style>\n",
              "<table border=\"1\" class=\"dataframe\">\n",
              "  <thead>\n",
              "    <tr style=\"text-align: right;\">\n",
              "      <th></th>\n",
              "      <th>instant</th>\n",
              "      <th>season</th>\n",
              "      <th>yr</th>\n",
              "      <th>mnth</th>\n",
              "      <th>hr</th>\n",
              "      <th>holiday</th>\n",
              "      <th>weekday</th>\n",
              "      <th>workingday</th>\n",
              "      <th>weathersit</th>\n",
              "      <th>temp</th>\n",
              "      <th>atemp</th>\n",
              "      <th>hum</th>\n",
              "      <th>windspeed</th>\n",
              "      <th>casual</th>\n",
              "      <th>registered</th>\n",
              "      <th>cnt</th>\n",
              "    </tr>\n",
              "    <tr>\n",
              "      <th>dteday</th>\n",
              "      <th></th>\n",
              "      <th></th>\n",
              "      <th></th>\n",
              "      <th></th>\n",
              "      <th></th>\n",
              "      <th></th>\n",
              "      <th></th>\n",
              "      <th></th>\n",
              "      <th></th>\n",
              "      <th></th>\n",
              "      <th></th>\n",
              "      <th></th>\n",
              "      <th></th>\n",
              "      <th></th>\n",
              "      <th></th>\n",
              "      <th></th>\n",
              "    </tr>\n",
              "  </thead>\n",
              "  <tbody>\n",
              "    <tr>\n",
              "      <th>2011-01-01</th>\n",
              "      <td>1</td>\n",
              "      <td>1</td>\n",
              "      <td>0</td>\n",
              "      <td>1</td>\n",
              "      <td>0</td>\n",
              "      <td>0</td>\n",
              "      <td>6</td>\n",
              "      <td>0</td>\n",
              "      <td>1</td>\n",
              "      <td>0.24</td>\n",
              "      <td>0.2879</td>\n",
              "      <td>0.81</td>\n",
              "      <td>0.0</td>\n",
              "      <td>3</td>\n",
              "      <td>13</td>\n",
              "      <td>16</td>\n",
              "    </tr>\n",
              "    <tr>\n",
              "      <th>2011-01-01</th>\n",
              "      <td>2</td>\n",
              "      <td>1</td>\n",
              "      <td>0</td>\n",
              "      <td>1</td>\n",
              "      <td>1</td>\n",
              "      <td>0</td>\n",
              "      <td>6</td>\n",
              "      <td>0</td>\n",
              "      <td>1</td>\n",
              "      <td>0.22</td>\n",
              "      <td>0.2727</td>\n",
              "      <td>0.80</td>\n",
              "      <td>0.0</td>\n",
              "      <td>8</td>\n",
              "      <td>32</td>\n",
              "      <td>40</td>\n",
              "    </tr>\n",
              "    <tr>\n",
              "      <th>2011-01-01</th>\n",
              "      <td>3</td>\n",
              "      <td>1</td>\n",
              "      <td>0</td>\n",
              "      <td>1</td>\n",
              "      <td>2</td>\n",
              "      <td>0</td>\n",
              "      <td>6</td>\n",
              "      <td>0</td>\n",
              "      <td>1</td>\n",
              "      <td>0.22</td>\n",
              "      <td>0.2727</td>\n",
              "      <td>0.80</td>\n",
              "      <td>0.0</td>\n",
              "      <td>5</td>\n",
              "      <td>27</td>\n",
              "      <td>32</td>\n",
              "    </tr>\n",
              "    <tr>\n",
              "      <th>2011-01-01</th>\n",
              "      <td>4</td>\n",
              "      <td>1</td>\n",
              "      <td>0</td>\n",
              "      <td>1</td>\n",
              "      <td>3</td>\n",
              "      <td>0</td>\n",
              "      <td>6</td>\n",
              "      <td>0</td>\n",
              "      <td>1</td>\n",
              "      <td>0.24</td>\n",
              "      <td>0.2879</td>\n",
              "      <td>0.75</td>\n",
              "      <td>0.0</td>\n",
              "      <td>3</td>\n",
              "      <td>10</td>\n",
              "      <td>13</td>\n",
              "    </tr>\n",
              "    <tr>\n",
              "      <th>2011-01-01</th>\n",
              "      <td>5</td>\n",
              "      <td>1</td>\n",
              "      <td>0</td>\n",
              "      <td>1</td>\n",
              "      <td>4</td>\n",
              "      <td>0</td>\n",
              "      <td>6</td>\n",
              "      <td>0</td>\n",
              "      <td>1</td>\n",
              "      <td>0.24</td>\n",
              "      <td>0.2879</td>\n",
              "      <td>0.75</td>\n",
              "      <td>0.0</td>\n",
              "      <td>0</td>\n",
              "      <td>1</td>\n",
              "      <td>1</td>\n",
              "    </tr>\n",
              "  </tbody>\n",
              "</table>\n",
              "</div>"
            ],
            "text/plain": [
              "            instant  season  yr  mnth  ...  windspeed  casual  registered  cnt\n",
              "dteday                                 ...                                    \n",
              "2011-01-01        1       1   0     1  ...        0.0       3          13   16\n",
              "2011-01-01        2       1   0     1  ...        0.0       8          32   40\n",
              "2011-01-01        3       1   0     1  ...        0.0       5          27   32\n",
              "2011-01-01        4       1   0     1  ...        0.0       3          10   13\n",
              "2011-01-01        5       1   0     1  ...        0.0       0           1    1\n",
              "\n",
              "[5 rows x 16 columns]"
            ]
          },
          "metadata": {
            "tags": []
          },
          "execution_count": 40
        }
      ]
    },
    {
      "cell_type": "markdown",
      "metadata": {
        "id": "6czZu56Y1a0e"
      },
      "source": [
        "Data Preprocessing"
      ]
    },
    {
      "cell_type": "code",
      "metadata": {
        "colab": {
          "base_uri": "https://localhost:8080/"
        },
        "id": "B6-pn1sY1cTe",
        "outputId": "1fad6d27-1d08-4da3-dc57-94febba18972"
      },
      "source": [
        "# check null values\n",
        "df_hour.isnull().sum()"
      ],
      "execution_count": null,
      "outputs": [
        {
          "output_type": "execute_result",
          "data": {
            "text/plain": [
              "instant       0\n",
              "season        0\n",
              "yr            0\n",
              "mnth          0\n",
              "hr            0\n",
              "holiday       0\n",
              "weekday       0\n",
              "workingday    0\n",
              "weathersit    0\n",
              "temp          0\n",
              "atemp         0\n",
              "hum           0\n",
              "windspeed     0\n",
              "casual        0\n",
              "registered    0\n",
              "cnt           0\n",
              "dtype: int64"
            ]
          },
          "metadata": {
            "tags": []
          },
          "execution_count": 41
        }
      ]
    },
    {
      "cell_type": "code",
      "metadata": {
        "id": "4ZYKirFV1WHP"
      },
      "source": [
        "# convert type into numpy array\n",
        "def windowed_dataset(series, window_size, batch_size, shuffle_buffer):\n",
        "    series = tf.expand_dims(series, axis=-1)\n",
        "    ds = tf.data.Dataset.from_tensor_slices(series)\n",
        "    ds = ds.window(window_size + 1, shift=1, drop_remainder=True)\n",
        "    ds = ds.flat_map(lambda w: w.batch(window_size + 1))\n",
        "    ds = ds.shuffle(shuffle_buffer)\n",
        "    ds = ds.map(lambda w: (w[:-1], w[1:]))\n",
        "    return ds.batch(batch_size).prefetch(1)"
      ],
      "execution_count": null,
      "outputs": []
    },
    {
      "cell_type": "code",
      "metadata": {
        "colab": {
          "base_uri": "https://localhost:8080/"
        },
        "id": "02OBh6H61qrI",
        "outputId": "8140229a-1acc-4503-8246-66d99724c92c"
      },
      "source": [
        "df_hour.head()\n",
        "\n",
        "df_hour = df_hour.drop(['instant', 'atemp', 'weekday', 'casual', 'registered'], axis=1)\n",
        "df_hour\n",
        "\n",
        "train_dataset = df_hour.sample(frac=0.8,random_state=0).astype(float)\n",
        "test_dataset = df_hour.astype(float)\n",
        "\n",
        "train_labels = train_dataset.pop('cnt').astype(float).values\n",
        "test_labels = test_dataset.pop('cnt').astype(float).values\n",
        "\n",
        "train_dataset = train_dataset.values[:, np.newaxis]\n",
        "train_dataset.ndim"
      ],
      "execution_count": null,
      "outputs": [
        {
          "output_type": "execute_result",
          "data": {
            "text/plain": [
              "3"
            ]
          },
          "metadata": {
            "tags": []
          },
          "execution_count": 43
        }
      ]
    },
    {
      "cell_type": "code",
      "metadata": {
        "colab": {
          "base_uri": "https://localhost:8080/",
          "height": 237
        },
        "id": "7_7aGckYBgkl",
        "outputId": "6b2d3019-4ffb-4d2e-bf9b-dc37853a946a"
      },
      "source": [
        "df_hour.head()"
      ],
      "execution_count": 49,
      "outputs": [
        {
          "output_type": "execute_result",
          "data": {
            "text/html": [
              "<div>\n",
              "<style scoped>\n",
              "    .dataframe tbody tr th:only-of-type {\n",
              "        vertical-align: middle;\n",
              "    }\n",
              "\n",
              "    .dataframe tbody tr th {\n",
              "        vertical-align: top;\n",
              "    }\n",
              "\n",
              "    .dataframe thead th {\n",
              "        text-align: right;\n",
              "    }\n",
              "</style>\n",
              "<table border=\"1\" class=\"dataframe\">\n",
              "  <thead>\n",
              "    <tr style=\"text-align: right;\">\n",
              "      <th></th>\n",
              "      <th>season</th>\n",
              "      <th>yr</th>\n",
              "      <th>mnth</th>\n",
              "      <th>hr</th>\n",
              "      <th>holiday</th>\n",
              "      <th>workingday</th>\n",
              "      <th>weathersit</th>\n",
              "      <th>temp</th>\n",
              "      <th>hum</th>\n",
              "      <th>windspeed</th>\n",
              "      <th>cnt</th>\n",
              "    </tr>\n",
              "    <tr>\n",
              "      <th>dteday</th>\n",
              "      <th></th>\n",
              "      <th></th>\n",
              "      <th></th>\n",
              "      <th></th>\n",
              "      <th></th>\n",
              "      <th></th>\n",
              "      <th></th>\n",
              "      <th></th>\n",
              "      <th></th>\n",
              "      <th></th>\n",
              "      <th></th>\n",
              "    </tr>\n",
              "  </thead>\n",
              "  <tbody>\n",
              "    <tr>\n",
              "      <th>2011-01-01</th>\n",
              "      <td>1</td>\n",
              "      <td>0</td>\n",
              "      <td>1</td>\n",
              "      <td>0</td>\n",
              "      <td>0</td>\n",
              "      <td>0</td>\n",
              "      <td>1</td>\n",
              "      <td>0.24</td>\n",
              "      <td>0.81</td>\n",
              "      <td>0.0</td>\n",
              "      <td>16</td>\n",
              "    </tr>\n",
              "    <tr>\n",
              "      <th>2011-01-01</th>\n",
              "      <td>1</td>\n",
              "      <td>0</td>\n",
              "      <td>1</td>\n",
              "      <td>1</td>\n",
              "      <td>0</td>\n",
              "      <td>0</td>\n",
              "      <td>1</td>\n",
              "      <td>0.22</td>\n",
              "      <td>0.80</td>\n",
              "      <td>0.0</td>\n",
              "      <td>40</td>\n",
              "    </tr>\n",
              "    <tr>\n",
              "      <th>2011-01-01</th>\n",
              "      <td>1</td>\n",
              "      <td>0</td>\n",
              "      <td>1</td>\n",
              "      <td>2</td>\n",
              "      <td>0</td>\n",
              "      <td>0</td>\n",
              "      <td>1</td>\n",
              "      <td>0.22</td>\n",
              "      <td>0.80</td>\n",
              "      <td>0.0</td>\n",
              "      <td>32</td>\n",
              "    </tr>\n",
              "    <tr>\n",
              "      <th>2011-01-01</th>\n",
              "      <td>1</td>\n",
              "      <td>0</td>\n",
              "      <td>1</td>\n",
              "      <td>3</td>\n",
              "      <td>0</td>\n",
              "      <td>0</td>\n",
              "      <td>1</td>\n",
              "      <td>0.24</td>\n",
              "      <td>0.75</td>\n",
              "      <td>0.0</td>\n",
              "      <td>13</td>\n",
              "    </tr>\n",
              "    <tr>\n",
              "      <th>2011-01-01</th>\n",
              "      <td>1</td>\n",
              "      <td>0</td>\n",
              "      <td>1</td>\n",
              "      <td>4</td>\n",
              "      <td>0</td>\n",
              "      <td>0</td>\n",
              "      <td>1</td>\n",
              "      <td>0.24</td>\n",
              "      <td>0.75</td>\n",
              "      <td>0.0</td>\n",
              "      <td>1</td>\n",
              "    </tr>\n",
              "  </tbody>\n",
              "</table>\n",
              "</div>"
            ],
            "text/plain": [
              "            season  yr  mnth  hr  ...  temp   hum  windspeed  cnt\n",
              "dteday                            ...                            \n",
              "2011-01-01       1   0     1   0  ...  0.24  0.81        0.0   16\n",
              "2011-01-01       1   0     1   1  ...  0.22  0.80        0.0   40\n",
              "2011-01-01       1   0     1   2  ...  0.22  0.80        0.0   32\n",
              "2011-01-01       1   0     1   3  ...  0.24  0.75        0.0   13\n",
              "2011-01-01       1   0     1   4  ...  0.24  0.75        0.0    1\n",
              "\n",
              "[5 rows x 11 columns]"
            ]
          },
          "metadata": {
            "tags": []
          },
          "execution_count": 49
        }
      ]
    },
    {
      "cell_type": "code",
      "metadata": {
        "id": "MiiXJirQBh0l"
      },
      "source": [
        ""
      ],
      "execution_count": null,
      "outputs": []
    },
    {
      "cell_type": "markdown",
      "metadata": {
        "id": "MLo6qexu2z6H"
      },
      "source": [
        "Building Model"
      ]
    },
    {
      "cell_type": "code",
      "metadata": {
        "id": "vsiqERjk17S1"
      },
      "source": [
        "from keras.layers import Dense, LSTM\n",
        "import tensorflow as tf\n",
        "\n",
        "train_set = windowed_dataset(train_labels, window_size=60, batch_size=100, shuffle_buffer=1000)\n",
        "model = tf.keras.models.Sequential([\n",
        "  tf.keras.layers.LSTM(60, return_sequences=True),\n",
        "  tf.keras.layers.LSTM(60),\n",
        "  tf.keras.layers.Dense(30, activation=\"relu\"),\n",
        "  tf.keras.layers.Dense(10, activation=\"relu\"),\n",
        "  tf.keras.layers.Dense(1),\n",
        "])"
      ],
      "execution_count": null,
      "outputs": []
    },
    {
      "cell_type": "code",
      "metadata": {
        "id": "ovecs4Rl2ays"
      },
      "source": [
        "optimizer = tf.keras.optimizers.SGD(learning_rate=1.0000e-04, momentum=0.9)\n",
        "model.compile(loss=tf.keras.losses.Huber(),\n",
        "              optimizer=optimizer,\n",
        "              metrics=['mae'])"
      ],
      "execution_count": null,
      "outputs": []
    },
    {
      "cell_type": "code",
      "metadata": {
        "colab": {
          "base_uri": "https://localhost:8080/"
        },
        "id": "uqe-a2Hi2q_X",
        "outputId": "4976586c-593f-445f-a65b-422979e6cd8f"
      },
      "source": [
        "history = model.fit(\n",
        "    train_dataset,\n",
        "    train_labels, \n",
        "    epochs=100, \n",
        "    batch_size=64, \n",
        "    validation_split=0.2,\n",
        "    shuffle=False,\n",
        ")"
      ],
      "execution_count": null,
      "outputs": [
        {
          "output_type": "stream",
          "text": [
            "Epoch 1/100\n",
            "174/174 [==============================] - 5s 9ms/step - loss: 188.5125 - mae: 189.0122 - val_loss: 192.7987 - val_mae: 193.2978\n",
            "Epoch 2/100\n",
            "174/174 [==============================] - 1s 5ms/step - loss: 187.9543 - mae: 188.4517 - val_loss: 192.1686 - val_mae: 192.6649\n",
            "Epoch 3/100\n",
            "174/174 [==============================] - 1s 4ms/step - loss: 187.2162 - mae: 187.7124 - val_loss: 191.2841 - val_mae: 191.7794\n",
            "Epoch 4/100\n",
            "174/174 [==============================] - 1s 5ms/step - loss: 186.0794 - mae: 186.5753 - val_loss: 189.7926 - val_mae: 190.2885\n",
            "Epoch 5/100\n",
            "174/174 [==============================] - 1s 5ms/step - loss: 183.9352 - mae: 184.4309 - val_loss: 186.7134 - val_mae: 187.2101\n",
            "Epoch 6/100\n",
            "174/174 [==============================] - 1s 5ms/step - loss: 178.8428 - mae: 179.3400 - val_loss: 178.4411 - val_mae: 178.9392\n",
            "Epoch 7/100\n",
            "174/174 [==============================] - 1s 5ms/step - loss: 162.1860 - mae: 162.6845 - val_loss: 148.5711 - val_mae: 149.0704\n",
            "Epoch 8/100\n",
            "174/174 [==============================] - 1s 5ms/step - loss: 123.2654 - mae: 123.7646 - val_loss: 114.8533 - val_mae: 115.3523\n",
            "Epoch 9/100\n",
            "174/174 [==============================] - 1s 5ms/step - loss: 107.0320 - mae: 107.5306 - val_loss: 106.8543 - val_mae: 107.3524\n",
            "Epoch 10/100\n",
            "174/174 [==============================] - 1s 4ms/step - loss: 101.0430 - mae: 101.5412 - val_loss: 102.3874 - val_mae: 102.8857\n",
            "Epoch 11/100\n",
            "174/174 [==============================] - 1s 5ms/step - loss: 96.6067 - mae: 97.1046 - val_loss: 97.2947 - val_mae: 97.7926\n",
            "Epoch 12/100\n",
            "174/174 [==============================] - 1s 6ms/step - loss: 92.5876 - mae: 93.0849 - val_loss: 92.8155 - val_mae: 93.3123\n",
            "Epoch 13/100\n",
            "174/174 [==============================] - 1s 5ms/step - loss: 90.0961 - mae: 90.5930 - val_loss: 90.6186 - val_mae: 91.1148\n",
            "Epoch 14/100\n",
            "174/174 [==============================] - 1s 5ms/step - loss: 87.6220 - mae: 88.1193 - val_loss: 91.6090 - val_mae: 92.1046\n",
            "Epoch 15/100\n",
            "174/174 [==============================] - 1s 5ms/step - loss: 87.1030 - mae: 87.5999 - val_loss: 86.5751 - val_mae: 87.0715\n",
            "Epoch 16/100\n",
            "174/174 [==============================] - 1s 5ms/step - loss: 85.1006 - mae: 85.5975 - val_loss: 87.1161 - val_mae: 87.6117\n",
            "Epoch 17/100\n",
            "174/174 [==============================] - 1s 5ms/step - loss: 85.1552 - mae: 85.6519 - val_loss: 84.7854 - val_mae: 85.2816\n",
            "Epoch 18/100\n",
            "174/174 [==============================] - 1s 5ms/step - loss: 83.5832 - mae: 84.0797 - val_loss: 84.4893 - val_mae: 84.9858\n",
            "Epoch 19/100\n",
            "174/174 [==============================] - 1s 5ms/step - loss: 82.5802 - mae: 83.0772 - val_loss: 84.8999 - val_mae: 85.3962\n",
            "Epoch 20/100\n",
            "174/174 [==============================] - 1s 5ms/step - loss: 82.2869 - mae: 82.7834 - val_loss: 83.0391 - val_mae: 83.5351\n",
            "Epoch 21/100\n",
            "174/174 [==============================] - 1s 5ms/step - loss: 79.8729 - mae: 80.3697 - val_loss: 80.5699 - val_mae: 81.0664\n",
            "Epoch 22/100\n",
            "174/174 [==============================] - 1s 6ms/step - loss: 79.9824 - mae: 80.4791 - val_loss: 81.9706 - val_mae: 82.4674\n",
            "Epoch 23/100\n",
            "174/174 [==============================] - 1s 6ms/step - loss: 79.6260 - mae: 80.1230 - val_loss: 78.2285 - val_mae: 78.7251\n",
            "Epoch 24/100\n",
            "174/174 [==============================] - 1s 5ms/step - loss: 78.6621 - mae: 79.1586 - val_loss: 78.8365 - val_mae: 79.3331\n",
            "Epoch 25/100\n",
            "174/174 [==============================] - 1s 5ms/step - loss: 78.1207 - mae: 78.6172 - val_loss: 77.9185 - val_mae: 78.4145\n",
            "Epoch 26/100\n",
            "174/174 [==============================] - 1s 5ms/step - loss: 76.7209 - mae: 77.2175 - val_loss: 74.1658 - val_mae: 74.6619\n",
            "Epoch 27/100\n",
            "174/174 [==============================] - 1s 6ms/step - loss: 75.9563 - mae: 76.4528 - val_loss: 81.9205 - val_mae: 82.4167\n",
            "Epoch 28/100\n",
            "174/174 [==============================] - 1s 6ms/step - loss: 74.7693 - mae: 75.2659 - val_loss: 77.3116 - val_mae: 77.8085\n",
            "Epoch 29/100\n",
            "174/174 [==============================] - 1s 5ms/step - loss: 73.1318 - mae: 73.6283 - val_loss: 77.4814 - val_mae: 77.9784\n",
            "Epoch 30/100\n",
            "174/174 [==============================] - 1s 5ms/step - loss: 72.2068 - mae: 72.7034 - val_loss: 73.3066 - val_mae: 73.8033\n",
            "Epoch 31/100\n",
            "174/174 [==============================] - 1s 5ms/step - loss: 74.0310 - mae: 74.5274 - val_loss: 81.6627 - val_mae: 82.1582\n",
            "Epoch 32/100\n",
            "174/174 [==============================] - 1s 5ms/step - loss: 74.0225 - mae: 74.5184 - val_loss: 83.8254 - val_mae: 84.3208\n",
            "Epoch 33/100\n",
            "174/174 [==============================] - 1s 5ms/step - loss: 72.2066 - mae: 72.7026 - val_loss: 78.5644 - val_mae: 79.0606\n",
            "Epoch 34/100\n",
            "174/174 [==============================] - 1s 6ms/step - loss: 70.0869 - mae: 70.5833 - val_loss: 69.7097 - val_mae: 70.2053\n",
            "Epoch 35/100\n",
            "174/174 [==============================] - 1s 6ms/step - loss: 68.3309 - mae: 68.8265 - val_loss: 77.4503 - val_mae: 77.9461\n",
            "Epoch 36/100\n",
            "174/174 [==============================] - 1s 6ms/step - loss: 70.6717 - mae: 71.1673 - val_loss: 73.2259 - val_mae: 73.7204\n",
            "Epoch 37/100\n",
            "174/174 [==============================] - 1s 6ms/step - loss: 69.0139 - mae: 69.5094 - val_loss: 70.1210 - val_mae: 70.6167\n",
            "Epoch 38/100\n",
            "174/174 [==============================] - 1s 5ms/step - loss: 70.0631 - mae: 70.5587 - val_loss: 70.3784 - val_mae: 70.8741\n",
            "Epoch 39/100\n",
            "174/174 [==============================] - 1s 5ms/step - loss: 66.1019 - mae: 66.5974 - val_loss: 70.5479 - val_mae: 71.0438\n",
            "Epoch 40/100\n",
            "174/174 [==============================] - 1s 5ms/step - loss: 67.1254 - mae: 67.6207 - val_loss: 64.0136 - val_mae: 64.5088\n",
            "Epoch 41/100\n",
            "174/174 [==============================] - 1s 5ms/step - loss: 65.9893 - mae: 66.4845 - val_loss: 70.3573 - val_mae: 70.8524\n",
            "Epoch 42/100\n",
            "174/174 [==============================] - 1s 5ms/step - loss: 66.1609 - mae: 66.6560 - val_loss: 69.9016 - val_mae: 70.3956\n",
            "Epoch 43/100\n",
            "174/174 [==============================] - 1s 5ms/step - loss: 64.9014 - mae: 65.3968 - val_loss: 63.8916 - val_mae: 64.3857\n",
            "Epoch 44/100\n",
            "174/174 [==============================] - 1s 6ms/step - loss: 63.8416 - mae: 64.3366 - val_loss: 72.9889 - val_mae: 73.4832\n",
            "Epoch 45/100\n",
            "174/174 [==============================] - 1s 5ms/step - loss: 64.1020 - mae: 64.5968 - val_loss: 84.8594 - val_mae: 85.3534\n",
            "Epoch 46/100\n",
            "174/174 [==============================] - 1s 5ms/step - loss: 63.3949 - mae: 63.8890 - val_loss: 58.8989 - val_mae: 59.3925\n",
            "Epoch 47/100\n",
            "174/174 [==============================] - 1s 5ms/step - loss: 64.0020 - mae: 64.4961 - val_loss: 60.5617 - val_mae: 61.0568\n",
            "Epoch 48/100\n",
            "174/174 [==============================] - 1s 5ms/step - loss: 63.2623 - mae: 63.7569 - val_loss: 71.4950 - val_mae: 71.9898\n",
            "Epoch 49/100\n",
            "174/174 [==============================] - 1s 6ms/step - loss: 63.3986 - mae: 63.8926 - val_loss: 66.4425 - val_mae: 66.9362\n",
            "Epoch 50/100\n",
            "174/174 [==============================] - 1s 6ms/step - loss: 63.2025 - mae: 63.6965 - val_loss: 72.1788 - val_mae: 72.6716\n",
            "Epoch 51/100\n",
            "174/174 [==============================] - 1s 5ms/step - loss: 65.5504 - mae: 66.0448 - val_loss: 56.8587 - val_mae: 57.3524\n",
            "Epoch 52/100\n",
            "174/174 [==============================] - 1s 5ms/step - loss: 64.7598 - mae: 65.2541 - val_loss: 58.8010 - val_mae: 59.2944\n",
            "Epoch 53/100\n",
            "174/174 [==============================] - 1s 6ms/step - loss: 61.3718 - mae: 61.8664 - val_loss: 59.1807 - val_mae: 59.6738\n",
            "Epoch 54/100\n",
            "174/174 [==============================] - 1s 6ms/step - loss: 63.4466 - mae: 63.9407 - val_loss: 58.1861 - val_mae: 58.6793\n",
            "Epoch 55/100\n",
            "174/174 [==============================] - 1s 6ms/step - loss: 61.8554 - mae: 62.3496 - val_loss: 73.8283 - val_mae: 74.3228\n",
            "Epoch 56/100\n",
            "174/174 [==============================] - 1s 5ms/step - loss: 62.2966 - mae: 62.7912 - val_loss: 59.6555 - val_mae: 60.1487\n",
            "Epoch 57/100\n",
            "174/174 [==============================] - 1s 6ms/step - loss: 62.0298 - mae: 62.5244 - val_loss: 60.5654 - val_mae: 61.0581\n",
            "Epoch 58/100\n",
            "174/174 [==============================] - 1s 6ms/step - loss: 59.8180 - mae: 60.3125 - val_loss: 54.8597 - val_mae: 55.3526\n",
            "Epoch 59/100\n",
            "174/174 [==============================] - 1s 5ms/step - loss: 59.1847 - mae: 59.6789 - val_loss: 58.9090 - val_mae: 59.4021\n",
            "Epoch 60/100\n",
            "174/174 [==============================] - 1s 5ms/step - loss: 57.0184 - mae: 57.5124 - val_loss: 57.1749 - val_mae: 57.6689\n",
            "Epoch 61/100\n",
            "174/174 [==============================] - 1s 5ms/step - loss: 59.0059 - mae: 59.4997 - val_loss: 59.0843 - val_mae: 59.5784\n",
            "Epoch 62/100\n",
            "174/174 [==============================] - 1s 5ms/step - loss: 57.8121 - mae: 58.3058 - val_loss: 54.8503 - val_mae: 55.3442\n",
            "Epoch 63/100\n",
            "174/174 [==============================] - 1s 5ms/step - loss: 59.8947 - mae: 60.3880 - val_loss: 59.5959 - val_mae: 60.0903\n",
            "Epoch 64/100\n",
            "174/174 [==============================] - 1s 5ms/step - loss: 56.7997 - mae: 57.2924 - val_loss: 55.8376 - val_mae: 56.3317\n",
            "Epoch 65/100\n",
            "174/174 [==============================] - 1s 5ms/step - loss: 57.3304 - mae: 57.8237 - val_loss: 53.7983 - val_mae: 54.2921\n",
            "Epoch 66/100\n",
            "174/174 [==============================] - 1s 5ms/step - loss: 55.5317 - mae: 56.0252 - val_loss: 51.1988 - val_mae: 51.6912\n",
            "Epoch 67/100\n",
            "174/174 [==============================] - 1s 5ms/step - loss: 56.8511 - mae: 57.3435 - val_loss: 54.5729 - val_mae: 55.0668\n",
            "Epoch 68/100\n",
            "174/174 [==============================] - 1s 6ms/step - loss: 56.0392 - mae: 56.5320 - val_loss: 57.5188 - val_mae: 58.0114\n",
            "Epoch 69/100\n",
            "174/174 [==============================] - 1s 5ms/step - loss: 54.2422 - mae: 54.7352 - val_loss: 53.0209 - val_mae: 53.5141\n",
            "Epoch 70/100\n",
            "174/174 [==============================] - 1s 5ms/step - loss: 54.3706 - mae: 54.8636 - val_loss: 50.4791 - val_mae: 50.9718\n",
            "Epoch 71/100\n",
            "174/174 [==============================] - 1s 5ms/step - loss: 54.0921 - mae: 54.5844 - val_loss: 61.1326 - val_mae: 61.6259\n",
            "Epoch 72/100\n",
            "174/174 [==============================] - 1s 5ms/step - loss: 53.7498 - mae: 54.2428 - val_loss: 60.1016 - val_mae: 60.5950\n",
            "Epoch 73/100\n",
            "174/174 [==============================] - 1s 6ms/step - loss: 53.1978 - mae: 53.6910 - val_loss: 57.2374 - val_mae: 57.7317\n",
            "Epoch 74/100\n",
            "174/174 [==============================] - 1s 6ms/step - loss: 55.1313 - mae: 55.6234 - val_loss: 64.6517 - val_mae: 65.1464\n",
            "Epoch 75/100\n",
            "174/174 [==============================] - 1s 6ms/step - loss: 56.5178 - mae: 57.0106 - val_loss: 52.3196 - val_mae: 52.8132\n",
            "Epoch 76/100\n",
            "174/174 [==============================] - 1s 6ms/step - loss: 53.2183 - mae: 53.7111 - val_loss: 52.7585 - val_mae: 53.2521\n",
            "Epoch 77/100\n",
            "174/174 [==============================] - 1s 5ms/step - loss: 53.6908 - mae: 54.1838 - val_loss: 48.4528 - val_mae: 48.9455\n",
            "Epoch 78/100\n",
            "174/174 [==============================] - 1s 6ms/step - loss: 53.2909 - mae: 53.7834 - val_loss: 55.3425 - val_mae: 55.8358\n",
            "Epoch 79/100\n",
            "174/174 [==============================] - 1s 6ms/step - loss: 52.3342 - mae: 52.8271 - val_loss: 50.3019 - val_mae: 50.7940\n",
            "Epoch 80/100\n",
            "174/174 [==============================] - 1s 5ms/step - loss: 53.0898 - mae: 53.5824 - val_loss: 50.5572 - val_mae: 51.0511\n",
            "Epoch 81/100\n",
            "174/174 [==============================] - 1s 5ms/step - loss: 52.0177 - mae: 52.5102 - val_loss: 48.1608 - val_mae: 48.6553\n",
            "Epoch 82/100\n",
            "174/174 [==============================] - 1s 5ms/step - loss: 51.5949 - mae: 52.0872 - val_loss: 62.7452 - val_mae: 63.2397\n",
            "Epoch 83/100\n",
            "174/174 [==============================] - 1s 5ms/step - loss: 52.2991 - mae: 52.7920 - val_loss: 55.0935 - val_mae: 55.5872\n",
            "Epoch 84/100\n",
            "174/174 [==============================] - 1s 6ms/step - loss: 52.6298 - mae: 53.1226 - val_loss: 54.1699 - val_mae: 54.6638\n",
            "Epoch 85/100\n",
            "174/174 [==============================] - 1s 5ms/step - loss: 52.0590 - mae: 52.5511 - val_loss: 49.0814 - val_mae: 49.5744\n",
            "Epoch 86/100\n",
            "174/174 [==============================] - 1s 6ms/step - loss: 50.5267 - mae: 51.0193 - val_loss: 49.4965 - val_mae: 49.9903\n",
            "Epoch 87/100\n",
            "174/174 [==============================] - 1s 6ms/step - loss: 50.7288 - mae: 51.2213 - val_loss: 50.9243 - val_mae: 51.4172\n",
            "Epoch 88/100\n",
            "174/174 [==============================] - 1s 6ms/step - loss: 48.0167 - mae: 48.5089 - val_loss: 46.1139 - val_mae: 46.6069\n",
            "Epoch 89/100\n",
            "174/174 [==============================] - 1s 6ms/step - loss: 49.8473 - mae: 50.3399 - val_loss: 51.7329 - val_mae: 52.2261\n",
            "Epoch 90/100\n",
            "174/174 [==============================] - 1s 5ms/step - loss: 48.1379 - mae: 48.6304 - val_loss: 48.0952 - val_mae: 48.5880\n",
            "Epoch 91/100\n",
            "174/174 [==============================] - 1s 5ms/step - loss: 48.0264 - mae: 48.5188 - val_loss: 46.2482 - val_mae: 46.7405\n",
            "Epoch 92/100\n",
            "174/174 [==============================] - 1s 6ms/step - loss: 49.8659 - mae: 50.3581 - val_loss: 46.6759 - val_mae: 47.1697\n",
            "Epoch 93/100\n",
            "174/174 [==============================] - 1s 6ms/step - loss: 48.6232 - mae: 49.1155 - val_loss: 42.3828 - val_mae: 42.8756\n",
            "Epoch 94/100\n",
            "174/174 [==============================] - 1s 6ms/step - loss: 48.4261 - mae: 48.9184 - val_loss: 43.1444 - val_mae: 43.6355\n",
            "Epoch 95/100\n",
            "174/174 [==============================] - 1s 5ms/step - loss: 48.4168 - mae: 48.9087 - val_loss: 51.8474 - val_mae: 52.3413\n",
            "Epoch 96/100\n",
            "174/174 [==============================] - 1s 5ms/step - loss: 48.1052 - mae: 48.5978 - val_loss: 43.1105 - val_mae: 43.6042\n",
            "Epoch 97/100\n",
            "174/174 [==============================] - 1s 6ms/step - loss: 47.1840 - mae: 47.6755 - val_loss: 45.0534 - val_mae: 45.5459\n",
            "Epoch 98/100\n",
            "174/174 [==============================] - 1s 6ms/step - loss: 47.1682 - mae: 47.6607 - val_loss: 43.2612 - val_mae: 43.7547\n",
            "Epoch 99/100\n",
            "174/174 [==============================] - 1s 6ms/step - loss: 46.4350 - mae: 46.9270 - val_loss: 44.8992 - val_mae: 45.3909\n",
            "Epoch 100/100\n",
            "174/174 [==============================] - 1s 6ms/step - loss: 48.0548 - mae: 48.5469 - val_loss: 42.0463 - val_mae: 42.5387\n"
          ],
          "name": "stdout"
        }
      ]
    },
    {
      "cell_type": "code",
      "metadata": {
        "colab": {
          "base_uri": "https://localhost:8080/",
          "height": 503
        },
        "id": "QvvviXFqEaqi",
        "outputId": "dda407ee-1902-4803-9212-8549ce52f4fa"
      },
      "source": [
        "import matplotlib.pyplot as plt\n",
        "\n",
        "plt.figure(figsize=(20,8))\n",
        "plt.plot(df_hour)\n",
        "plt.title('Bike Sharing')\n",
        "plt.xlabel('dteday')\n",
        "plt.ylabel('cnt')\n",
        "plt.show()"
      ],
      "execution_count": 65,
      "outputs": [
        {
          "output_type": "display_data",
          "data": {
            "image/png": "[encoded data removed]",
            "text/plain": [
              "<Figure size 1440x576 with 1 Axes>"
            ]
          },
          "metadata": {
            "tags": [],
            "needs_background": "light"
          }
        }
      ]
    },
    {
      "cell_type": "code",
      "metadata": {
        "colab": {
          "base_uri": "https://localhost:8080/"
        },
        "id": "UQjLYXDsBXZK",
        "outputId": "ef70f536-4606-40bc-ed38-0b2886d049f3"
      },
      "source": [
        "#y max\n",
        "max = df_hour['cnt'].max()\n",
        "print('Max value : ' )\n",
        "print(max)"
      ],
      "execution_count": 66,
      "outputs": [
        {
          "output_type": "stream",
          "text": [
            "Max value : \n",
            "977\n"
          ],
          "name": "stdout"
        }
      ]
    },
    {
      "cell_type": "code",
      "metadata": {
        "colab": {
          "base_uri": "https://localhost:8080/"
        },
        "id": "oRzvuJKWBQSr",
        "outputId": "3c782587-f92e-4eb2-feda-0224a2645216"
      },
      "source": [
        "#y min\n",
        "min = df_hour['cnt'].min()\n",
        "print('Max value : ' )\n",
        "print(min)"
      ],
      "execution_count": 67,
      "outputs": [
        {
          "output_type": "stream",
          "text": [
            "Max value : \n",
            "1\n"
          ],
          "name": "stdout"
        }
      ]
    },
    {
      "cell_type": "code",
      "metadata": {
        "colab": {
          "base_uri": "https://localhost:8080/"
        },
        "id": "MkdteNgHCMmt",
        "outputId": "be9f4ee0-b88e-48dc-9086-55c611b5227e"
      },
      "source": [
        "# model < 10% scaled data\n",
        "x = (977 - 1) * (10 / 100)\n",
        "print(x)"
      ],
      "execution_count": 68,
      "outputs": [
        {
          "output_type": "stream",
          "text": [
            "97.60000000000001\n"
          ],
          "name": "stdout"
        }
      ]
    },
    {
      "cell_type": "markdown",
      "metadata": {
        "id": "NcseO472D-xe"
      },
      "source": [
        "\n",
        "    Atttributes: \n",
        "    \n",
        "    instant: record index\n",
        "    dteday : date\n",
        "    season : season (1:winter, 2:spring, 3:summer, 4:fall)\n",
        "    yr : year (0: 2011, 1:2012)\n",
        "    mnth : month ( 1 to 12)\n",
        "    hr : hour (0 to 23)\n",
        "    holiday : weather day is holiday or not (extracted from [Web Link])\n",
        "    weekday : day of the week\n",
        "    workingday : if day is neither weekend nor holiday is 1, otherwise is 0.\n",
        "    weathersit :\n",
        "    1: Clear, Few clouds, Partly cloudy, Partly cloudy\n",
        "    2: Mist + Cloudy, Mist + Broken clouds, Mist + Few clouds, Mist\n",
        "    3: Light Snow, Light Rain + Thunderstorm + Scattered clouds, Light Rain + Scattered clouds\n",
        "    4: Heavy Rain + Ice Pallets + Thunderstorm + Mist, Snow + Fog\n",
        "    temp : Normalized temperature in Celsius. The values are derived via (t-t_min)/(t_max-t_min), t_min=-8, t_max=+39 (only in hourly scale)\n",
        "    atemp: Normalized feeling temperature in Celsius. The values are derived via (t-t_min)/(t_max-t_min), t_min=-16, t_max=+50 (only in hourly scale)\n",
        "    hum: Normalized humidity. The values are divided to 100 (max)\n",
        "    windspeed: Normalized wind speed. The values are divided to 67 (max)\n",
        "    casual: count of casual users\n",
        "    registered: count of registered users\n",
        "    cnt: count of total rental bikes including both casual and registered\n"
      ]
    }
  ]
}